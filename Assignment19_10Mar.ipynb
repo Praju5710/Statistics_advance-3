{
 "cells": [
  {
   "cell_type": "markdown",
   "id": "b4f9e5c8-2f9b-47d3-9d68-3d6841a6af1f",
   "metadata": {},
   "source": [
    "Q1: What is Estimation Statistics? Explain point estimate and interval estimate."
   ]
  },
  {
   "cell_type": "markdown",
   "id": "fca4c390-3651-49a6-b316-d673e54b5326",
   "metadata": {},
   "source": [
    "#### Estimation statistics involves the use of sample data to make inferences or predictions about population parameters. There are two main types of estimates in statistics: point estimates and interval estimates.\n",
    "#### Point Estimate:\n",
    "##### A point estimate is a single value that is used to approximate the population parameter. It is based on sample data and provides a specific numerical value as an estimate of the parameter.\n",
    "##### For example, if we want to estimate the average height of all students in a school, taking the average height of a sample of students would give you a point estimate of the population mean.\n",
    "#### Interval Estimate:\n",
    "##### An interval estimate, provides a range within which the true value of the population parameter is likely to fall. It recognizes the inherent uncertainty in estimating population parameters from a sample. Confidence intervals are commonly used for interval estimates. \n",
    "##### For example, a 95% confidence interval for the average height of students might be from 160 cm to 170 cm. This suggests that we are 95% confident that the true average height of all students falls within this interval."
   ]
  },
  {
   "cell_type": "markdown",
   "id": "e6e690ec-b093-413b-b3da-fb0a6717872d",
   "metadata": {},
   "source": [
    "Q2. Write a Python function to estimate the population mean using a sample mean and standard\n",
    "deviation."
   ]
  },
  {
   "cell_type": "code",
   "execution_count": 2,
   "id": "21818491-6cda-4629-a0ce-a2e3bd2434b6",
   "metadata": {},
   "outputs": [
    {
     "name": "stdout",
     "output_type": "stream",
     "text": [
      "Estimated Population Mean: 150\n",
      "Confidence Interval: (146.4216117125657, 153.5783882874343) at 95.0% confidence level.\n"
     ]
    }
   ],
   "source": [
    "import scipy.stats as stats\n",
    "import math\n",
    "\n",
    "def estimate_population_mean(sample_mean, sample_size, sample_std_dev, confidence_level):\n",
    "\n",
    "    # Calculate the margin of error\n",
    "    margin_of_error = stats.norm.ppf((1 + confidence_level) / 2) * (sample_std_dev / math.sqrt(sample_size))\n",
    "\n",
    "    # Calculate the confidence interval\n",
    "    lower_bound = sample_mean - margin_of_error\n",
    "    upper_bound = sample_mean + margin_of_error\n",
    "\n",
    "    return lower_bound, upper_bound\n",
    "\n",
    "# Example : \n",
    "sample_mean = 150  \n",
    "sample_size = 30   \n",
    "sample_std_dev = 10  \n",
    "confidence_level = 0.95  \n",
    "\n",
    "confidence_interval = estimate_population_mean(sample_mean, sample_size, sample_std_dev, confidence_level)\n",
    "print(f\"Estimated Population Mean: {sample_mean}\")\n",
    "print(f\"Confidence Interval: {confidence_interval} at {confidence_level * 100}% confidence level.\")\n"
   ]
  },
  {
   "cell_type": "markdown",
   "id": "2a008fbb-7d74-4e98-8910-e733324ee1da",
   "metadata": {},
   "source": [
    "Q3: What is Hypothesis testing? Why is it used? State the importance of Hypothesis testing."
   ]
  },
  {
   "cell_type": "markdown",
   "id": "766d61a0-d665-4ccc-8800-10653d63b9ba",
   "metadata": {},
   "source": [
    "#### Hypothesis testing is a statistical method used to make inferences and draw conclusions about a population parameter based on a sample of data. It involves setting up two competing hypotheses: a null hypothesis (H0) and an alternative hypothesis (H1). \n",
    "#### The goal is to assess the evidence provided by the sample data and decide whether there is enough evidence to reject the null hypothesis in favour of the alternative hypothesis.\n",
    "#### Importance of Hypothesis Testing:\n",
    "##### 1) Inference about Population Parameters: Hypothesis testing allows researchers to make inferences about population parameters based on sample data. For example, it helps determine if there is a significant difference between two groups or if an observed effect is likely to be genuine.\n",
    "##### 2) Quality Control: Industries often use hypothesis testing to ensure the quality and reliability of products. For example, it can be used to determine if a manufacturing process is producing items within specified tolerances.\n",
    "##### 3) Medical and Scientific Research: In medical and scientific research, hypothesis testing is crucial for evaluating new treatments, assessing the significance of experimental results, and drawing conclusions about the effectiveness of interventions."
   ]
  },
  {
   "cell_type": "markdown",
   "id": "d6c8805c-822f-4ba4-bc5e-14b15291a573",
   "metadata": {},
   "source": [
    "Q4. Create a hypothesis that states whether the average weight of male college students is greater than\n",
    "the average weight of female college students."
   ]
  },
  {
   "cell_type": "markdown",
   "id": "23160ade-293f-44d0-a7e2-15f95a312359",
   "metadata": {},
   "source": [
    "#### A hypothesis to test whether the average weight of male college students is greater than the average weight of female college students. So, the null hypothesis (H0) and the alternative hypothesis (H1):\n",
    "#### Null Hypothesis (H0): The average weight of male college students is less than or equal to the average weight of female college students.\n",
    "#### Alternative Hypothesis (H1): The average weight of male college students is greater than the average weight of female college students.\n",
    "#### Mathematically, this can be expressed as:\n",
    "#### H0: μ_male <= μ_female\n",
    "#### Ha: μ_male > μ_female\n",
    "##### where:\n",
    "##### μ_male represents the population mean weight of male college students.\n",
    "##### μ_female represents the population mean weight of female college students.\n",
    "#### During the hypothesis testing process, if the sample data provides enough evidence to reject the null hypothesis, it would suggest that there is a significant difference, and the average weight of male college students is greater than the average weight of female college students. The specific decision would depend on the calculated test statistic and the chosen significance level (alpha)."
   ]
  },
  {
   "cell_type": "markdown",
   "id": "32e6ea56-5027-49a4-841a-59c7c489a7b5",
   "metadata": {},
   "source": [
    "Q5. Write a Python script to conduct a hypothesis test on the difference between two population means,\n",
    "given a sample from each population."
   ]
  },
  {
   "cell_type": "code",
   "execution_count": 4,
   "id": "067cafc0-fc90-4610-83d1-91c5daf6b838",
   "metadata": {},
   "outputs": [
    {
     "name": "stdout",
     "output_type": "stream",
     "text": [
      "T-Statistic: 4.1522739926869985\n",
      "P-Value: 0.0031989657940487463\n",
      "Reject the null hypothesis. There is evidence of a significant difference.\n"
     ]
    }
   ],
   "source": [
    "import scipy.stats as stats\n",
    "\n",
    "def two_sample_t_test(sample1, sample2, alpha=0.05):\n",
    "    \n",
    "    # Perform the t-test assuming equal variances\n",
    "    t_stat, p_value = stats.ttest_ind(sample1, sample2, equal_var=True)\n",
    "\n",
    "    return t_stat, p_value\n",
    "\n",
    "# Example :\n",
    "sample_male = [75, 80, 85, 78, 82]\n",
    "sample_female = [65, 70, 75, 68, 72]\n",
    "\n",
    "# Set the significance level (alpha)\n",
    "alpha = 0.05\n",
    "\n",
    "# Perform the two-sample t-test\n",
    "t_statistic, p_value = two_sample_t_test(sample_male, sample_female, alpha)\n",
    "\n",
    "print(f\"T-Statistic: {t_statistic}\")\n",
    "print(f\"P-Value: {p_value}\")\n",
    "\n",
    "# Compare p-value with alpha to make a decision\n",
    "if p_value < alpha:\n",
    "    print(\"Reject the null hypothesis. There is evidence of a significant difference.\")\n",
    "else:\n",
    "    print(\"Fail to reject the null hypothesis. There is not enough evidence of a significant difference.\")\n"
   ]
  },
  {
   "cell_type": "markdown",
   "id": "00246bd1-b9f0-407d-9a84-552d38ef2f86",
   "metadata": {},
   "source": [
    "Q6: What is a null and alternative hypothesis? Give some examples."
   ]
  },
  {
   "cell_type": "markdown",
   "id": "16eb9700-b759-4b22-94fa-c34f1a09376b",
   "metadata": {},
   "source": [
    "#### Null Hypothesis (H0): The null hypothesis is a statement of no effect, no difference, or no change in a population parameter. It represents the status quo or a default assumption that there is no real difference or effect. During hypothesis testing, the null hypothesis is what researchers aim to test against. It is denoted by H0.\n",
    "#### Alternative Hypothesis (Ha or H1): The alternative hypothesis is a statement that contradicts the null hypothesis. It represents what the researcher is trying to show or demonstrate with the data. It could suggest a specific effect, difference, or change in the population parameter. The alternative hypothesis is denoted by Ha or H1.\n",
    "#### 1) Example: Mean Test for a New Drug\n",
    "#### Null Hypothesis (H0): The average recovery time for patients using the new drug is the same as the average recovery time for patients using the standard treatment.\n",
    "#### Alternative Hypothesis (Ha): The average recovery time for patients using the new drug is different from the average recovery time for patients using the standard treatment.\n",
    "#### 2) Example: Proportion Test for Website Conversion\n",
    "#### Null Hypothesis (H0): The proportion of users who make a purchase on the website is equal to or less than 0.1 (10%).\n",
    "#### Alternative Hypothesis (Ha): The proportion of users who make a purchase on the website is greater than 0.1 (10%).\n",
    "#### 3) Example: Correlation Test for IQ and Academic Performance\n",
    "#### Null Hypothesis (H0): There is no correlation between IQ scores and academic performance.\n",
    "#### Alternative Hypothesis (Ha): There is a significant correlation between IQ scores and academic performance."
   ]
  },
  {
   "cell_type": "markdown",
   "id": "28c430ba-4a42-4852-90f6-3405b65b27d5",
   "metadata": {},
   "source": [
    "Q7: Write down the steps involved in hypothesis testing."
   ]
  },
  {
   "cell_type": "markdown",
   "id": "fc8672a7-1903-4366-9e72-426683822c25",
   "metadata": {},
   "source": [
    "### 1) Formulate the Hypothesis:\n",
    "#### Null Hypothesis (H0): A statement of no effect, no difference, or no change in the population parameter.\n",
    "#### Alternative Hypothesis (Ha): A statement that contradicts the null hypothesis and represents what the researcher aims to show.\n",
    "### 2) Choose the Significance Level (α):\n",
    "#### The significance level, denoted by α, is the probability of rejecting the null hypothesis when it is true. Common choices include 0.05, 0.01, or 0.10.\n",
    "### 3) Select the Test Statistic:\n",
    "#### Choose an appropriate test statistic based on the type of data and the hypothesis being tested. Common test statistics include t-statistic, z-statistic, chi-square statistic, etc.\n",
    "### 4) Identify the Sampling Distribution:\n",
    "#### Identify the distribution of the chosen test statistic under the assumption that the null hypothesis is true. This often involves using known probability distributions such as the t-distribution or the normal distribution.\n",
    "### 5) Set the Decision Rule:\n",
    "#### Establish a decision rule to determine whether to reject the null hypothesis. The decision rule is based on critical values or a critical region, and it is determined by the chosen significance level (α).\n",
    "### 6) Collect and Analyze the Data:\n",
    "#### Collect a sample of data relevant to the hypothesis being tested. Calculate the test statistic based on the sample data.\n",
    "### 7) Calculate the P-Value:\n",
    "#### Calculate the probability (p-value) of obtaining a test statistic as extreme as, or more extreme than, the one observed in the sample data, assuming the null hypothesis is true.\n",
    "### 8) Make a Decision:\n",
    "#### Compare the p-value to the significance level (α).\n",
    "#### If p-value <= α : Reject the null hypothesis.\n",
    "#### If p-value > α : Fail to reject the null hypothesis.\n",
    "### 9) Draw Conclusions:\n",
    "#### Based on the decision made in step 8, draw conclusions about the population parameter. If the null hypothesis is rejected, it suggests evidence in favor of the alternative hypothesis."
   ]
  },
  {
   "cell_type": "markdown",
   "id": "f42482f1-cb6d-4999-aa97-f256c7d6e5a2",
   "metadata": {},
   "source": [
    "Q8. Define p-value and explain its significance in hypothesis testing."
   ]
  },
  {
   "cell_type": "markdown",
   "id": "a71e142d-e97d-4ca3-a086-b058aa48681b",
   "metadata": {},
   "source": [
    "#### The p-value or probability value, is a key concept in hypothesis testing. It quantifies the evidence against the null hypothesis and helps researchers make decisions about whether to reject the null hypothesis in favor of the alternative hypothesis. The p-value is a probability that measures the likelihood of obtaining a test statistic as extreme as, or more extreme than, the one observed in the sample data, assuming the null hypothesis is true.\n",
    "### Significance in Hypothesis Testing:\n",
    "#### 1) A small p-value (typically less than the chosen significance level) indicates strong evidence against the null hypothesis, leading to the rejection of the null hypothesis.\n",
    "#### 2) A large p-value suggests weak evidence against the null hypothesis, leading to the failure to reject the null hypothesis.\n",
    "#### 3) The p-value does not provide the probability of the null hypothesis being true; it only indicates the strength of evidence against it given the observed data."
   ]
  },
  {
   "cell_type": "markdown",
   "id": "55fbfe5f-b27e-4b07-bf8a-73e739c79765",
   "metadata": {},
   "source": [
    "Q9. Generate a Student's t-distribution plot using Python's matplotlib library, with the degrees of freedom\n",
    "parameter set to 10."
   ]
  },
  {
   "cell_type": "code",
   "execution_count": 5,
   "id": "f9e1971f-3a3d-451d-bbd5-8ad86bb88e3c",
   "metadata": {},
   "outputs": [
    {
     "data": {
      "image/png": "[encoded data removed]",
      "text/plain": [
       "<Figure size 800x600 with 1 Axes>"
      ]
     },
     "metadata": {},
     "output_type": "display_data"
    }
   ],
   "source": [
    "import matplotlib.pyplot as plt\n",
    "import numpy as np\n",
    "import scipy.stats as stats\n",
    "\n",
    "# Set the degrees of freedom\n",
    "degrees_of_freedom = 10\n",
    "\n",
    "# Generate data points for the x-axis\n",
    "x = np.linspace(-5, 5, 100)\n",
    "\n",
    "# Calculate the probability density function (PDF) for the t-distribution\n",
    "pdf_values = stats.t.pdf(x, degrees_of_freedom)\n",
    "\n",
    "# Plot the t-distribution\n",
    "plt.figure(figsize=(8, 6))\n",
    "plt.plot(x, pdf_values, label=f'Student\\'s t-distribution (df={degrees_of_freedom})')\n",
    "\n",
    "# Add labels and title\n",
    "plt.title('Student\\'s t-distribution')\n",
    "plt.xlabel('x')\n",
    "plt.ylabel('Probability Density Function (PDF)')\n",
    "plt.legend()\n",
    "\n",
    "# Show the plot\n",
    "plt.grid(True)\n",
    "plt.show()\n"
   ]
  },
  {
   "cell_type": "markdown",
   "id": "de693a62-3922-44af-89c6-f593b097a8d0",
   "metadata": {},
   "source": [
    "Q10. Write a Python program to calculate the two-sample t-test for independent samples, given two\n",
    "random samples of equal size and a null hypothesis that the population means are equal."
   ]
  },
  {
   "cell_type": "code",
   "execution_count": 6,
   "id": "a011bdd0-04ba-4484-9b73-f3ab6f019e77",
   "metadata": {},
   "outputs": [
    {
     "name": "stdout",
     "output_type": "stream",
     "text": [
      "T-Statistic: -1.91843022874089\n",
      "P-Value: 0.059983097417730405\n",
      "Fail to reject the null hypothesis. There is not enough evidence of a significant difference.\n"
     ]
    }
   ],
   "source": [
    "import numpy as np\n",
    "import scipy.stats as stats\n",
    "\n",
    "def two_sample_t_test(sample1, sample2):\n",
    "    \n",
    "    # Perform the two-sample t-test\n",
    "    t_statistic, p_value = stats.ttest_ind(sample1, sample2)\n",
    "\n",
    "    return t_statistic, p_value\n",
    "\n",
    "# Example :\n",
    "sample1 = np.random.normal(loc=50, scale=10, size=30)\n",
    "sample2 = np.random.normal(loc=55, scale=12, size=30)\n",
    "\n",
    "# Perform the two-sample t-test\n",
    "t_statistic, p_value = two_sample_t_test(sample1, sample2)\n",
    "\n",
    "print(f\"T-Statistic: {t_statistic}\")\n",
    "print(f\"P-Value: {p_value}\")\n",
    "\n",
    "# Compare p-value with a significance level (e.g., 0.05) to make a decision\n",
    "alpha = 0.05\n",
    "if p_value < alpha:\n",
    "    print(\"Reject the null hypothesis. There is evidence of a significant difference.\")\n",
    "else:\n",
    "    print(\"Fail to reject the null hypothesis. There is not enough evidence of a significant difference.\")\n"
   ]
  },
  {
   "cell_type": "markdown",
   "id": "7128d86b-c2e2-482d-8055-f69bf5e59365",
   "metadata": {},
   "source": [
    "Q11: What is Student’s t distribution? When to use the t-Distribution."
   ]
  },
  {
   "cell_type": "markdown",
   "id": "6af66d5e-b167-4a6d-8dbc-a84065c262c8",
   "metadata": {},
   "source": [
    "#### Student's t-distribution, often referred to simply as the t-distribution, is a probability distribution that arises in the context of statistical inference when the population standard deviation is unknown and is estimated from a sample. It is used for hypothesis testing and constructing confidence intervals for the mean of a normally distributed population based on a small sample size.\n",
    "### When to use the t-Distribution:\n",
    "#### 1) Small Sample Size : The t-distribution is particularly useful when dealing with small sample sizes (typically less than 30). In such cases, the t-distribution accounts for the increased variability introduced by estimating the population standard deviation from the sample.\n",
    "#### 2) Unknown Population Standard Deviation : When the population standard deviation is unknown, and it needs to be estimated from the sample standard deviation, the t-distribution is the appropriate choice.\n",
    "#### 3) Normality Assumption : The t-distribution assumes that the underlying population follows a normal distribution. While it is somewhat robust to deviations from normality, it is more reliable when the data are approximately normally distributed."
   ]
  },
  {
   "cell_type": "markdown",
   "id": "6064607b-ffe0-4238-840f-8b9bcfb3d699",
   "metadata": {},
   "source": [
    "Q12: What is t-statistic? State the formula for t-statistic."
   ]
  },
  {
   "cell_type": "markdown",
   "id": "2f14ce27-4351-4517-8aae-93fb39bc3087",
   "metadata": {},
   "source": [
    "#### The t-statistic is a measure used in hypothesis testing to assess whether the means of two groups are significantly different or to test hypotheses about a population mean when the population standard deviation is unknown and must be estimated from a sample.\n",
    "#### 1) One-Sample t-Test:\n",
    "#### Formula: (x_bar-μ)/(s/sqrt(n))\n",
    "#### where : \n",
    "##### x_bar is the sample mean.\n",
    "##### μ is the hypothesized population mean under the null hypothesis.\n",
    "##### s is the sample standard deviation.\n",
    "##### n is the sample size.\n",
    "#### 2) Two-Sample t-Test (Independent Samples):\n",
    "#### Formula: (x_bar1-x_bar2)/sqrt((s1^2/n1)+(s2^2/n2))\n",
    "#### where: \n",
    "##### x_bar1 and x_bar2 are the sample means of the two groups.\n",
    "##### s1 and s2 are the sample standard deviations of the two groups.\n",
    "##### n1 and n2 are the sample sizes of the two groups."
   ]
  },
  {
   "cell_type": "markdown",
   "id": "1754a912-e357-44cd-a29a-012370447182",
   "metadata": {},
   "source": [
    "Q13. A coffee shop owner wants to estimate the average daily revenue for their shop. They take a random\n",
    "sample of 50 days and find the sample mean revenue to be 500 with a standard deviation of 50.\n",
    "Estimate the population mean revenue with a 95% confidence interval."
   ]
  },
  {
   "cell_type": "code",
   "execution_count": 7,
   "id": "849e189f-0277-4437-95f2-a65f97e9a4e4",
   "metadata": {},
   "outputs": [
    {
     "name": "stdout",
     "output_type": "stream",
     "text": [
      "95% Confidence Interval for the Population Mean Revenue: $485.79 to $514.21\n"
     ]
    }
   ],
   "source": [
    "import scipy.stats as stats\n",
    "import math\n",
    "\n",
    "# Given data\n",
    "sample_mean = 500  # sample mean revenue in dollars\n",
    "sample_std_dev = 50  # sample standard deviation in dollars\n",
    "sample_size = 50  # sample size\n",
    "\n",
    "# Degrees of freedom for a t-distribution\n",
    "degrees_of_freedom = sample_size - 1\n",
    "\n",
    "# Confidence level\n",
    "confidence_level = 0.95\n",
    "\n",
    "# Calculate the critical value (t)\n",
    "t_critical = stats.t.ppf((1 + confidence_level) / 2, degrees_of_freedom)\n",
    "\n",
    "# Calculate the margin of error\n",
    "margin_of_error = t_critical * (sample_std_dev / math.sqrt(sample_size))\n",
    "\n",
    "# Calculate the confidence interval\n",
    "lower_bound = sample_mean - margin_of_error\n",
    "upper_bound = sample_mean + margin_of_error\n",
    "\n",
    "# Print the results\n",
    "print(f\"95% Confidence Interval for the Population Mean Revenue: ${lower_bound:.2f} to ${upper_bound:.2f}\")\n"
   ]
  },
  {
   "cell_type": "markdown",
   "id": "0be22938-44f2-4e46-aa31-7c5e973ed3f1",
   "metadata": {},
   "source": [
    "Q14. A researcher hypothesizes that a new drug will decrease blood pressure by 10 mmHg. They conduct a\n",
    "clinical trial with 100 patients and find that the sample mean decrease in blood pressure is 8 mmHg with a\n",
    "standard deviation of 3 mmHg. Test the hypothesis with a significance level of 0.05."
   ]
  },
  {
   "cell_type": "code",
   "execution_count": 9,
   "id": "42bee4e4-e4c4-46fe-adae-39fa1e51c7a6",
   "metadata": {},
   "outputs": [
    {
     "name": "stdout",
     "output_type": "stream",
     "text": [
      "T-Statistic: -6.666666666666667\n",
      "Critical Value: 1.9842169515086827\n",
      "Reject the null hypothesis. There is evidence of a significant difference.\n"
     ]
    }
   ],
   "source": [
    "import scipy.stats as stats\n",
    "import math\n",
    "\n",
    "# Given data\n",
    "sample_mean = 8  # sample mean decrease in blood pressure in mmHg\n",
    "hypothesized_mean = 10  # hypothesized population mean decrease in mmHg\n",
    "sample_std_dev = 3  # sample standard deviation in mmHg\n",
    "sample_size = 100  # sample size\n",
    "\n",
    "# Calculate the t-statistic\n",
    "t_statistic = (sample_mean - hypothesized_mean) / (sample_std_dev / math.sqrt(sample_size))\n",
    "\n",
    "# Degrees of freedom for a one-sample t-test\n",
    "degrees_of_freedom = sample_size - 1\n",
    "\n",
    "# Significance level\n",
    "alpha = 0.05\n",
    "\n",
    "# Calculate the critical value (two-tailed test)\n",
    "critical_value = stats.t.ppf(1 - alpha / 2, degrees_of_freedom)\n",
    "\n",
    "# Print the results\n",
    "print(f\"T-Statistic: {t_statistic}\")\n",
    "print(f\"Critical Value: {critical_value}\")\n",
    "\n",
    "# Perform the hypothesis test\n",
    "if abs(t_statistic) > critical_value:\n",
    "    print(\"Reject the null hypothesis. There is evidence of a significant difference.\")\n",
    "else:\n",
    "    print(\"Fail to reject the null hypothesis. There is not enough evidence of a significant difference.\")\n"
   ]
  },
  {
   "cell_type": "markdown",
   "id": "f77630af-5d5c-4635-8820-85bac1762c48",
   "metadata": {},
   "source": [
    "Q15. An electronics company produces a certain type of product with a mean weight of 5 pounds and a\n",
    "standard deviation of 0.5 pounds. A random sample of 25 products is taken, and the sample mean weight\n",
    "is found to be 4.8 pounds. Test the hypothesis that the true mean weight of the products is less than 5\n",
    "pounds with a significance level of 0.01."
   ]
  },
  {
   "cell_type": "code",
   "execution_count": 10,
   "id": "d8efb4e1-50cb-42a4-91a0-b087f031e9bd",
   "metadata": {},
   "outputs": [
    {
     "name": "stdout",
     "output_type": "stream",
     "text": [
      "T-Statistic: -2.0000000000000018\n",
      "Critical Value: -2.4921594731575762\n",
      "Fail to reject the null hypothesis. There is not enough evidence that the true mean weight is less than 5 pounds.\n"
     ]
    }
   ],
   "source": [
    "import scipy.stats as stats\n",
    "import math\n",
    "\n",
    "# Given data\n",
    "sample_mean = 4.8  # sample mean weight in pounds\n",
    "hypothesized_mean = 5  # hypothesized population mean weight in pounds\n",
    "sample_std_dev = 0.5  # sample standard deviation in pounds\n",
    "sample_size = 25  # sample size\n",
    "\n",
    "# Calculate the t-statistic\n",
    "t_statistic = (sample_mean - hypothesized_mean) / (sample_std_dev / math.sqrt(sample_size))\n",
    "\n",
    "# Degrees of freedom for a one-sample t-test\n",
    "degrees_of_freedom = sample_size - 1\n",
    "\n",
    "# Significance level\n",
    "alpha = 0.01\n",
    "\n",
    "# Calculate the critical value (one-tailed test)\n",
    "critical_value = stats.t.ppf(alpha, degrees_of_freedom)\n",
    "\n",
    "# Print the results\n",
    "print(f\"T-Statistic: {t_statistic}\")\n",
    "print(f\"Critical Value: {critical_value}\")\n",
    "\n",
    "# Perform the hypothesis test\n",
    "if t_statistic < critical_value:\n",
    "    print(\"Reject the null hypothesis. There is evidence that the true mean weight is less than 5 pounds.\")\n",
    "else:\n",
    "    print(\"Fail to reject the null hypothesis. There is not enough evidence that the true mean weight is less than 5 pounds.\")\n"
   ]
  },
  {
   "cell_type": "markdown",
   "id": "58a87b12-28fd-4d43-83df-2c33469a6cde",
   "metadata": {},
   "source": [
    "Q16. Two groups of students are given different study materials to prepare for a test. The first group (n1 =\n",
    "30) has a mean score of 80 with a standard deviation of 10, and the second group (n2 = 40) has a mean\n",
    "score of 75 with a standard deviation of 8. Test the hypothesis that the population means for the two\n",
    "groups are equal with a significance level of 0.01."
   ]
  },
  {
   "cell_type": "code",
   "execution_count": 11,
   "id": "965804b4-5e1d-4ed0-a8f2-a67df3e11405",
   "metadata": {},
   "outputs": [
    {
     "name": "stdout",
     "output_type": "stream",
     "text": [
      "T-Statistic: 2.2511258444537408\n",
      "Critical Value: 2.6500812928169553\n",
      "Fail to reject the null hypothesis. There is not enough evidence that the population means are not equal.\n"
     ]
    }
   ],
   "source": [
    "import scipy.stats as stats\n",
    "import math\n",
    "\n",
    "# Given data for Group 1\n",
    "mean_group1 = 80\n",
    "std_dev_group1 = 10\n",
    "sample_size_group1 = 30\n",
    "\n",
    "# Given data for Group 2\n",
    "mean_group2 = 75\n",
    "std_dev_group2 = 8\n",
    "sample_size_group2 = 40\n",
    "\n",
    "# Calculate the t-statistic\n",
    "t_statistic = (mean_group1 - mean_group2) / math.sqrt((std_dev_group1**2 / sample_size_group1) + (std_dev_group2**2 / sample_size_group2))\n",
    "\n",
    "# Degrees of freedom for a two-sample t-test\n",
    "degrees_of_freedom = sample_size_group1 + sample_size_group2 - 2\n",
    "\n",
    "# Significance level\n",
    "alpha = 0.01\n",
    "\n",
    "# Calculate the critical value (two-tailed test)\n",
    "critical_value = stats.t.ppf(1 - alpha / 2, degrees_of_freedom)\n",
    "\n",
    "# Print the results\n",
    "print(f\"T-Statistic: {t_statistic}\")\n",
    "print(f\"Critical Value: {critical_value}\")\n",
    "\n",
    "# Perform the hypothesis test\n",
    "if abs(t_statistic) > critical_value:\n",
    "    print(\"Reject the null hypothesis. There is evidence that the population means are not equal.\")\n",
    "else:\n",
    "    print(\"Fail to reject the null hypothesis. There is not enough evidence that the population means are not equal.\")\n"
   ]
  },
  {
   "cell_type": "markdown",
   "id": "e3753d50-957e-43d9-97a2-9d7dc4ba8755",
   "metadata": {},
   "source": [
    "Q17. A marketing company wants to estimate the average number of ads watched by viewers during a TV\n",
    "program. They take a random sample of 50 viewers and find that the sample mean is 4 with a standard\n",
    "deviation of 1.5. Estimate the population mean with a 99% confidence interval."
   ]
  },
  {
   "cell_type": "code",
   "execution_count": null,
   "id": "665b2096-70cb-415f-bb5a-c3b7f7705b44",
   "metadata": {},
   "outputs": [],
   "source": [
    "import scipy.stats as stats\n",
    "import math\n",
    "\n",
    "# Given data\n",
    "sample_mean = 4  # sample mean number of ads watched\n",
    "sample_std_dev = 1.5  # sample standard deviation\n",
    "sample_size = 50  # sample size\n",
    "\n",
    "# Degrees of freedom for a t-distribution\n",
    "degrees_of_freedom = sample_size - 1\n",
    "\n",
    "# Confidence level\n",
    "confidence_level = 0.99\n",
    "\n",
    "# Calculate the critical value (t)\n",
    "t_critical = stats.t.ppf((1 + confidence_level) / 2, degrees_of_freedom)\n",
    "\n",
    "# Calculate the margin of error\n",
    "margin_of_error = t_critical * (sample_std_dev / math.sqrt(sample_size))\n",
    "\n",
    "# Calculate the confidence interval\n",
    "lower_bound = sample_mean - margin_of_error\n",
    "upper_bound = sample_mean + margin_of_error\n",
    "\n",
    "# Print the results\n",
    "print(f\"99% Confidence Interval for the Population Mean Number of Ads Watched: {lower_bound:.2f} to {upper_bound:.2f}\")\n"
   ]
  }
 ],
 "metadata": {
  "kernelspec": {
   "display_name": "Python 3 (ipykernel)",
   "language": "python",
   "name": "python3"
  },
  "language_info": {
   "codemirror_mode": {
    "name": "ipython",
    "version": 3
   },
   "file_extension": ".py",
   "mimetype": "text/x-python",
   "name": "python",
   "nbconvert_exporter": "python",
   "pygments_lexer": "ipython3",
   "version": "3.10.8"
  }
 },
 "nbformat": 4,
 "nbformat_minor": 5
}
